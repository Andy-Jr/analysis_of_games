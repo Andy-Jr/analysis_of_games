{
 "cells": [
  {
   "cell_type": "markdown",
   "metadata": {
    "slideshow": {
     "slide_type": "slide"
    }
   },
   "source": [
    "# A-B testing"
   ]
  },
  {
   "cell_type": "markdown",
   "metadata": {
    "slideshow": {
     "slide_type": "-"
    }
   },
   "source": [
    "Let's assume you developed a game, and after you gathered some data about how much money users spend in the game, you notice the average revenue per paying user is £33. You think about it, and you come up with an idea that you believe will make spenders pay more. How do you know whether your idea is any good? We'll discuss this a bit later on this page. First, we need to learn some theoretic concepts."
   ]
  },
  {
   "cell_type": "code",
   "execution_count": null,
   "metadata": {
    "slideshow": {
     "slide_type": "skip"
    }
   },
   "outputs": [],
   "source": [
    "import matplotlib.pyplot as plt\n",
    "import numpy as np\n",
    "import ipywidgets as widgets\n",
    "from ipywidgets import interact\n",
    "%matplotlib inline\n",
    "plt.style.use('seaborn')"
   ]
  },
  {
   "cell_type": "markdown",
   "metadata": {
    "slideshow": {
     "slide_type": "subslide"
    }
   },
   "source": [
    "## Mean, standard deviation and normal distribution"
   ]
  },
  {
   "cell_type": "markdown",
   "metadata": {
    "slideshow": {
     "slide_type": "-"
    }
   },
   "source": [
    "Let's assume we have a sample set of values corresponding to the amount spent by a user to finish a battle in the game described by Jessica. In a real world situation, this game won't be played once or twice. Online or mobile games, are being played millions of times, each day! How can we describe such a large data set, so that we get an informative summary of the values we've collected?"
   ]
  },
  {
   "cell_type": "markdown",
   "metadata": {
    "slideshow": {
     "slide_type": "subslide"
    }
   },
   "source": [
    "Below you have 3 sample data sets. Don't  worry for now about the code that generates the numbers. We'll come back to it later. For each of them, we compute the mean value."
   ]
  },
  {
   "cell_type": "code",
   "execution_count": null,
   "metadata": {
    "slideshow": {
     "slide_type": "subslide"
    }
   },
   "outputs": [],
   "source": [
    "### Set 1\n",
    "mu1, sigma1= 33, 5\n",
    "s1 = np.random.normal(mu1, sigma1, 10000)  \n",
    "print(\"Set 1: The average amount spent per user is £\", round(s1.mean()))"
   ]
  },
  {
   "cell_type": "code",
   "execution_count": null,
   "metadata": {
    "slideshow": {
     "slide_type": "subslide"
    }
   },
   "outputs": [],
   "source": [
    "### Set 2\n",
    "mu2, sigma2= 33, 8\n",
    "s2 = np.random.normal(mu2, sigma2, 10000)\n",
    "print(\"Set 2: The average amount spent per user is £\", round(s2.mean()))"
   ]
  },
  {
   "cell_type": "code",
   "execution_count": null,
   "metadata": {
    "slideshow": {
     "slide_type": "subslide"
    }
   },
   "outputs": [],
   "source": [
    "### Set 3\n",
    "mu3, sigma3= 33, 2\n",
    "s3 = np.random.normal(mu3, sigma3, 10000)\n",
    "print(\"Set 3: The average amount spent per user is £\", round(s3.mean()))"
   ]
  },
  {
   "cell_type": "markdown",
   "metadata": {
    "slideshow": {
     "slide_type": "subslide"
    }
   },
   "source": [
    "All of them have the same average spent per user, but different data sets can have a different spread of the data. Let's look at the shape of these data sets by plotting a histogram for each of them. For this, we will create equal bins and we will place each user in a bin, according to their spend. Then, we compute what percentage of users are in each bin."
   ]
  },
  {
   "cell_type": "code",
   "execution_count": null,
   "metadata": {
    "slideshow": {
     "slide_type": "subslide"
    }
   },
   "outputs": [],
   "source": [
    "count1, bins1, ignored1 = plt.hist(s1, 30, normed=True,alpha=0.5, label = 'Set 1')\n",
    "plt.legend()\n",
    "plt.title(\"Spend per user\");"
   ]
  },
  {
   "cell_type": "code",
   "execution_count": null,
   "metadata": {},
   "outputs": [],
   "source": [
    "bins1"
   ]
  },
  {
   "cell_type": "code",
   "execution_count": null,
   "metadata": {
    "slideshow": {
     "slide_type": "subslide"
    }
   },
   "outputs": [],
   "source": [
    "count1, bins1, ignored1 = plt.hist(s1, 30, normed=True,alpha=0.5, label = 'Set 1')\n",
    "count2, bins2, ignored2 = plt.hist(s2, 30, normed=True,alpha=0.5, label = 'Set 2')\n",
    "plt.legend()\n",
    "plt.title(\"Spend per user\");"
   ]
  },
  {
   "cell_type": "code",
   "execution_count": null,
   "metadata": {
    "hide_input": false,
    "slideshow": {
     "slide_type": "subslide"
    }
   },
   "outputs": [],
   "source": [
    "count1, bins1, ignored1 = plt.hist(s1, 30, normed=True,alpha=0.5, label = 'Set 1')\n",
    "plt.plot(bins1, 1/(sigma1 * np.sqrt(2 * np.pi)) * np.exp( - (bins1 - mu1)**2 / (2 * sigma1**2) ),linewidth=2, color='r')\n",
    "count2, bins2, ignored2 = plt.hist(s2, 30, normed=True,alpha=0.5, label = 'Set 2')\n",
    "plt.plot(bins2, 1/(sigma2 * np.sqrt(2 * np.pi)) * np.exp( - (bins2 - mu1)**2 / (2 * sigma2**2) ),linewidth=2, color='g')\n",
    "count3, bins3, ignored3 = plt.hist(s3, 30, normed=True,alpha=0.5, label = 'Set 3')\n",
    "plt.plot(bins3, 1/(sigma3 * np.sqrt(2 * np.pi)) * np.exp( - (bins3 - mu1)**2 / (2 * sigma3**2) ),linewidth=2, color='b')\n",
    "plt.legend()\n",
    "plt.title(\"Distribution of spend per user\");"
   ]
  },
  {
   "cell_type": "markdown",
   "metadata": {
    "slideshow": {
     "slide_type": "subslide"
    }
   },
   "source": [
    "We saw that even if the data sets have the same mean, the way the data is spread is different. This means that in each data set, values in the data set can be closer or further from the mean. For example, data set 3 is very narrow, which means the values in the data set are closer to the mean than the values of data set 2 which is very wide. "
   ]
  },
  {
   "cell_type": "markdown",
   "metadata": {
    "slideshow": {
     "slide_type": "subslide"
    }
   },
   "source": [
    "## Task\n",
    "\n",
    "Look at the below histograms and decide which set has values closer to the mean"
   ]
  },
  {
   "cell_type": "code",
   "execution_count": null,
   "metadata": {
    "slideshow": {
     "slide_type": "subslide"
    }
   },
   "outputs": [],
   "source": [
    "muA, sigmaA= 65, 3\n",
    "sA = np.random.normal(muA, sigmaA, 10000)\n",
    "muB, sigmaB= 30, 8\n",
    "sB = np.random.normal(muB, sigmaB, 10000)  \n"
   ]
  },
  {
   "cell_type": "code",
   "execution_count": null,
   "metadata": {
    "slideshow": {
     "slide_type": "subslide"
    }
   },
   "outputs": [],
   "source": [
    "count1, bins1, ignored1 = plt.hist(sA, 30, normed=True,alpha=0.5, label = 'Set A')\n",
    "count2, bins2, ignored2 = plt.hist(sB, 30, normed=True,alpha=0.5, label = 'Set B')\n",
    "plt.legend()\n",
    "plt.title(\"Spend per user\");"
   ]
  },
  {
   "cell_type": "markdown",
   "metadata": {
    "slideshow": {
     "slide_type": "subslide"
    }
   },
   "source": [
    "As you can see, it is not enough to have the mean of the data set to summarise the values collected. We need a metric to represent the spread in data. This metric is called the *standard deviation*, and is computed like this: $$ s = \\sqrt{\\frac{\\sum{(X- \\overline{X})^2}}{n-1}}$$\n",
    "where, \n",
    "$$\n",
    "\\begin{align}\n",
    "s = \\text{sample standard deviation}\\\\\n",
    "\\overline{X}=\\text{sample mean}\\\\  \n",
    "n= \\text{number of values in sample}\\\\\n",
    "\\end{align}\n",
    "$$\n",
    "    \n",
    "The above charts show 3 data sets that all have bell-shaped lines, which is why we say that the values follow a bell curve or a normal distribution. This distribution is described by 2 parameters: the mean and the standard deviation."
   ]
  },
  {
   "cell_type": "markdown",
   "metadata": {
    "slideshow": {
     "slide_type": "subslide"
    }
   },
   "source": [
    "## Task\n",
    "\n",
    "What parameter do you need to change in the code below to make the associated histrogram look more narrow? Do you need to increase or decrease the number?"
   ]
  },
  {
   "cell_type": "code",
   "execution_count": null,
   "metadata": {
    "slideshow": {
     "slide_type": "fragment"
    }
   },
   "outputs": [],
   "source": [
    "\n",
    "sX = np.random.normal(130, 20, 10000)\n",
    "count1, bins1, ignored1 = plt.hist(sX, 30, normed=True,alpha=0.5, label = 'Set X')\n",
    "#     plt.ylim([0,200])\n",
    "plt.title(\"Spend per user\");"
   ]
  },
  {
   "cell_type": "markdown",
   "metadata": {
    "slideshow": {
     "slide_type": "subslide"
    }
   },
   "source": [
    "This distribution, having this special curve, has some properties:\n",
    "* Its shape is symmetric and the mean lies in the middle of the shape\n",
    "* About 68% of its values lies within one standard deviation of the mean (e.g. for set 1, we have 68% of values being between 25 and 35. Hint: check the code for generating numbers)\n",
    "* About 95% of its values lies within two standard deviations of the mean\n",
    "* 99.7% of its values lie within three standard deviations of the mean\n",
    "\n",
    "The last 3 properties are called the Emperical rule."
   ]
  },
  {
   "cell_type": "markdown",
   "metadata": {
    "slideshow": {
     "slide_type": "subslide"
    }
   },
   "source": [
    "## Task\n",
    "\n",
    "Compute and interpret the ranges according to the Empircal rule for data set 2"
   ]
  },
  {
   "cell_type": "markdown",
   "metadata": {
    "slideshow": {
     "slide_type": "subslide"
    }
   },
   "source": [
    "Now let's look at the following data sets:"
   ]
  },
  {
   "cell_type": "code",
   "execution_count": null,
   "metadata": {
    "slideshow": {
     "slide_type": "-"
    }
   },
   "outputs": [],
   "source": [
    "### Set 4\n",
    "mu4, sigma4= 30, 4\n",
    "s4 = np.random.normal(mu4, sigma4, 10000)\n",
    "print(\"Set 4: The average amount spent per user £\", round(s4.mean()))\n",
    "### Set 5\n",
    "mu5, sigma5= 33, 4\n",
    "s5 = np.random.normal(mu5, sigma5, 10000)\n",
    "print(\"Set 5: The average amount spent per user £\", round(s5.mean()))\n",
    "count4, bins4, ignored4 = plt.hist(s4, 30, normed=True,alpha=0.5, label = 'Set 4')\n",
    "count5, bins5, ignored5 = plt.hist(s5, 30, normed=True,alpha=0.5, label = 'Set 5')\n",
    "plt.legend()\n",
    "plt.title(\"Spend per user - case A\");"
   ]
  },
  {
   "cell_type": "code",
   "execution_count": null,
   "metadata": {
    "slideshow": {
     "slide_type": "subslide"
    }
   },
   "outputs": [],
   "source": [
    "### Set 4\n",
    "mu4, sigma4= 30, 0.5\n",
    "s4 = np.random.normal(mu4, sigma4, 10000)\n",
    "print(\"Set 6: The average amount spent per user £\", round(s4.mean()))\n",
    "### Set 5\n",
    "mu5, sigma5= 33, 0.5\n",
    "s5 = np.random.normal(mu5, sigma5, 10000)\n",
    "print(\"Set 7: The average amount spent per user £\", round(s5.mean()))\n",
    "count4, bins4, ignored4 = plt.hist(s4, 30, normed=True,alpha=0.5, label = 'Set 6')\n",
    "count5, bins5, ignored5 = plt.hist(s5, 30, normed=True,alpha=0.5, label = 'Set 7')\n",
    "plt.legend()\n",
    "plt.title(\"Spend per user - case B\");"
   ]
  },
  {
   "cell_type": "markdown",
   "metadata": {
    "slideshow": {
     "slide_type": "subslide"
    }
   },
   "source": [
    "We have 2 pairs of histograms: case A and case B. In both cases, the difference of the mean is the same, but the histograms in case A are highly overlapping. What does that mean?"
   ]
  },
  {
   "cell_type": "markdown",
   "metadata": {
    "slideshow": {
     "slide_type": "fragment"
    }
   },
   "source": [
    "This means that, in case A, there's a higher spread of the data, and although the computed mean of each data set shows a difference, the probability of the 2 data sets to have values in common is very high, as their histogram overlaps a lot.\n",
    "\n",
    "This means that the more the histograms overlap, the harder it will be to detect a statistically significant difference in the mean of the data sets."
   ]
  },
  {
   "cell_type": "markdown",
   "metadata": {
    "slideshow": {
     "slide_type": "subslide"
    }
   },
   "source": [
    "# In practice..."
   ]
  },
  {
   "cell_type": "markdown",
   "metadata": {
    "slideshow": {
     "slide_type": "-"
    }
   },
   "source": [
    "## Task\n",
    "\n",
    "Coming back to our first question. We made a change in the game and now we have 2 versions of the game. We randomly select 2 groups of players and give each of them one of the versions. Below you have 3 scenarios with the histograms of the money spent per user for each version of the game. Which of the histograms would help you most to decide whether the new version is successful or not?"
   ]
  },
  {
   "cell_type": "code",
   "execution_count": null,
   "metadata": {
    "slideshow": {
     "slide_type": "subslide"
    }
   },
   "outputs": [],
   "source": [
    "### Set original\n",
    "mu4, sigma4= 70, 5\n",
    "s4 = np.random.normal(mu4, sigma4, 10000)\n",
    "print(\"Original : The average amount spent per user £\", round(s4.mean()))\n",
    "### Set new version\n",
    "mu5, sigma5= 73, 5\n",
    "s5 = np.random.normal(mu5, sigma5, 10000)\n",
    "print(\"New version: The average amount spent per user £\", round(s5.mean()))\n",
    "count4, bins4, ignored4 = plt.hist(s4, 30, normed=True,alpha=0.5, label = 'Original')\n",
    "count5, bins5, ignored5 = plt.hist(s5, 30, normed=True,alpha=0.5, label = 'New version')\n",
    "plt.legend()\n",
    "plt.title(\"Spend per user - scenario 1\");"
   ]
  },
  {
   "cell_type": "code",
   "execution_count": null,
   "metadata": {
    "slideshow": {
     "slide_type": "subslide"
    }
   },
   "outputs": [],
   "source": [
    "### Set original\n",
    "mu4, sigma4= 70, 10\n",
    "s4 = np.random.normal(mu4, sigma4, 10000)\n",
    "print(\"Original : The average amount spent per user £\", round(s4.mean()))\n",
    "### Set new version\n",
    "mu5, sigma5= 73, 10\n",
    "s5 = np.random.normal(mu5, sigma5, 10000)\n",
    "print(\"New version: The average amount spent per user £\", round(s5.mean()))\n",
    "count4, bins4, ignored4 = plt.hist(s4, 30, normed=True,alpha=0.5, label = 'Original')\n",
    "count5, bins5, ignored5 = plt.hist(s5, 30, normed=True,alpha=0.5, label = 'New version')\n",
    "plt.legend()\n",
    "plt.title(\"Spend per user - scenario 2\");"
   ]
  },
  {
   "cell_type": "code",
   "execution_count": null,
   "metadata": {
    "slideshow": {
     "slide_type": "subslide"
    }
   },
   "outputs": [],
   "source": [
    "### Set original\n",
    "mu4, sigma4= 70, 0.8\n",
    "s4 = np.random.normal(mu4, sigma4, 10000)\n",
    "print(\"Original : The average amount spent per user £\", round(s4.mean()))\n",
    "### Set new version\n",
    "mu5, sigma5= 73, 0.8\n",
    "s5 = np.random.normal(mu5, sigma5, 10000)\n",
    "print(\"New version: The average amount spent per user £\", round(s5.mean()))\n",
    "count4, bins4, ignored4 = plt.hist(s4, 30, normed=True,alpha=0.5, label = 'Original')\n",
    "count5, bins5, ignored5 = plt.hist(s5, 30, normed=True,alpha=0.5, label = 'New version')\n",
    "plt.legend()\n",
    "plt.title(\"Spend per user - scenario 3\");"
   ]
  }
 ],
 "metadata": {
  "celltoolbar": "Slideshow",
  "kernelspec": {
   "display_name": "Python 3",
   "language": "python",
   "name": "python3"
  },
  "language_info": {
   "codemirror_mode": {
    "name": "ipython",
    "version": 3
   },
   "file_extension": ".py",
   "mimetype": "text/x-python",
   "name": "python",
   "nbconvert_exporter": "python",
   "pygments_lexer": "ipython3",
   "version": "3.5.2"
  },
  "widgets": {
   "state": {
    "c368dbeb36df492c83b2cdfe00140994": {
     "views": [
      {
       "cell_index": 17
      }
     ]
    }
   },
   "version": "1.2.0"
  }
 },
 "nbformat": 4,
 "nbformat_minor": 2
}
