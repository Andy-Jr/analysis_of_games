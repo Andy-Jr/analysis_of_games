{
 "cells": [
  {
   "cell_type": "markdown",
   "metadata": {
    "slideshow": {
     "slide_type": "slide"
    }
   },
   "source": [
    "# Let's play a game!"
   ]
  },
  {
   "cell_type": "markdown",
   "metadata": {
    "slideshow": {
     "slide_type": "-"
    }
   },
   "source": [
    "We have created a game simulator, to learn about probability and mathematics in games! You can use this notebook to play around with different parameters, and observe how that changes the process and the output of the game. If you want, please feel free to continue working on this, to make the game even more fun and interesting, or change it completely to suit your own game design. It's all up to you!"
   ]
  },
  {
   "cell_type": "markdown",
   "metadata": {
    "slideshow": {
     "slide_type": "subslide"
    }
   },
   "source": [
    "## The rules"
   ]
  },
  {
   "cell_type": "markdown",
   "metadata": {
    "slideshow": {
     "slide_type": "-"
    }
   },
   "source": [
    "Every game needs rules, right? This game is a character collection game. Players collect characters with different levels of strength, and battle against each other to ultimately make the other players lose all their characters. Here's how to play it:\n",
    "\n",
    "1. To start the game, each player draws 5 random characters.\n",
    "2. All players choose 2 characters from their deck to battle with.\n",
    "3. All players choose 1 character from their deck to put at stake. This character will be lost if they lose the battle!\n",
    "4. The winner of the battle is the player with the highest combined strength of their battle characters. This player takes all the stakes and adds them to their deck!\n",
    "5. If two or more players have the same battle strength, we have a tie. In this case, all players get both their battle and their stake characters back, and the winners get to draw 1 extra character to add to their deck.\n",
    "6. Repeat steps 2-5. If a player loses all their characters, they drop out of the match. This continues until we have only one player left. This player is the winner of the match!\n",
    "7. To make sure that the match doesn't take too long, we play at most 100 gamerounds. If 100 gamerounds have been played, the winner is the player with the highest combined strength of all characters in their deck."
   ]
  },
  {
   "cell_type": "markdown",
   "metadata": {
    "slideshow": {
     "slide_type": "subslide"
    }
   },
   "source": [
    "#### A note for attentive students:"
   ]
  },
  {
   "cell_type": "markdown",
   "metadata": {
    "slideshow": {
     "slide_type": "-"
    }
   },
   "source": [
    "What happens when a player has less than 3 characters left? Good question! If a player has 2 characters left, they will use 1 character for battle and put 1 character at stake. Yes, this does put them at a disadvantage, battling with one battle character against players with two battle characters! If a player has only 1 character left, this character will be both their battle character and their stake. If they loses the battle, they has to give up this character and they drop out of the match."
   ]
  },
  {
   "cell_type": "markdown",
   "metadata": {
    "slideshow": {
     "slide_type": "subslide"
    }
   },
   "source": [
    "## The mathematics"
   ]
  },
  {
   "cell_type": "markdown",
   "metadata": {
    "slideshow": {
     "slide_type": "-"
    }
   },
   "source": [
    "First, we have to import some libraries that make things easier for us. Why do things yourself when others have already done it for you? (This does not apply to your homework, of course...)"
   ]
  },
  {
   "cell_type": "code",
   "execution_count": null,
   "metadata": {
    "slideshow": {
     "slide_type": "-"
    }
   },
   "outputs": [],
   "source": [
    "import pandas as pd\n",
    "import numpy as np\n",
    "import random\n",
    "import ada\n",
    "import importlib"
   ]
  },
  {
   "cell_type": "code",
   "execution_count": null,
   "metadata": {
    "slideshow": {
     "slide_type": "-"
    }
   },
   "outputs": [],
   "source": [
    "importlib.reload(ada)"
   ]
  },
  {
   "cell_type": "markdown",
   "metadata": {
    "slideshow": {
     "slide_type": "subslide"
    }
   },
   "source": [
    "Then, we create a Pandas dataframe containing information about all the available characters in the game. Each character has a certain probability of being drawn. The higher the probability, the more common the character is! However, that usually means that the character is less valuable (otherwise the game would be very easy!). Each character also has a value for battle strength. The higher the battle strength, the more valuable this character is in battle!"
   ]
  },
  {
   "cell_type": "code",
   "execution_count": null,
   "metadata": {
    "slideshow": {
     "slide_type": "-"
    }
   },
   "outputs": [],
   "source": [
    "available_characters = pd.DataFrame(\n",
    "{\n",
    "    \"character\" : [\"Gnome\",\"Warrior\",\"Amazon\",\"Raven\",\"Elf\",\"Giant\",\"Dragon\",\"Unicorn\"],\n",
    "    \"probability\" : [0.3,0.22,0.18,0.13,0.07,0.05,0.04,0.01],\n",
    "    \"strength\" : [1,2,3,4,5,6,7,10]\n",
    "})\n",
    "\n",
    "print(available_characters)"
   ]
  },
  {
   "cell_type": "markdown",
   "metadata": {
    "slideshow": {
     "slide_type": "subslide"
    }
   },
   "source": [
    "In the module `ada`, I have created some functions that you can use to play the game. If you're confident in your Python coding skills you're very welcome to check them out, and even see if you can modify them! Perhaps you would like to change the rules of the game, or add another feature. However, this is completely optional. Here's an outline of what it contains: \n",
    "\n",
    "* A `Player` class, which is an object class that represents a player in our game. It has various attributes, such as a name and a character deck, and it can perform various actions such as draw random characters or select characters for battle.\n",
    "* A function called `battle_gameround`. This is a function that takes a list of players, and performs one gameround of a battle. That means that it lets each player select battle and stake characters, evaluates the strength of each player's battle characters, and adds the total stakes to the character deck of the winner.\n",
    "* A function called `battle_match`. This is the function that you'll be playing with. It takes some parameters about the players and the characters to draw, and plays gamerounds (executes the function `battle_gameround`) until one player wins."
   ]
  },
  {
   "cell_type": "markdown",
   "metadata": {
    "slideshow": {
     "slide_type": "subslide"
    }
   },
   "source": [
    "Let's play the game with two players, and see what happens!"
   ]
  },
  {
   "cell_type": "code",
   "execution_count": null,
   "metadata": {
    "slideshow": {
     "slide_type": "-"
    }
   },
   "outputs": [],
   "source": [
    "random.seed(3) # seed value\n",
    "ada.battle_match(2, # num_players\n",
    "                 5, # num_chars\n",
    "                 2, # battle\n",
    "                 1, # stake\n",
    "                 available_characters)"
   ]
  },
  {
   "cell_type": "markdown",
   "metadata": {
    "slideshow": {
     "slide_type": "subslide"
    }
   },
   "source": [
    "For this particular match, it took 11 gamerounds for player 2 to lose all of their characters, which means that player 1 is the winner. Some gamerounds were won by player 1 (e.g. gameround 1), some gamerounds were won by player 2 (e.g. gameround 3), and we even see one gameround that ended in a tie (gameround 2)! "
   ]
  },
  {
   "cell_type": "markdown",
   "metadata": {
    "slideshow": {
     "slide_type": "subslide"
    }
   },
   "source": [
    "There are a few things to note from this match. First, the outcome of the game is very much dependent on how lucky your first 5 character draws are. Player 1's initial deck was worth 12 strength points, whereas player 2's initial deck was worth only 9 strength points. However, there is also something weird going on when it comes to the players' strategy. **Can you spot the problem?**"
   ]
  },
  {
   "cell_type": "markdown",
   "metadata": {
    "slideshow": {
     "slide_type": "fragment"
    }
   },
   "source": [
    "**Hint:** Have a look at player 2's initial deck. Which characters would you choose for battle, if you were player 2?"
   ]
  },
  {
   "cell_type": "markdown",
   "metadata": {
    "slideshow": {
     "slide_type": "slide"
    }
   },
   "source": [
    "# Exercises"
   ]
  },
  {
   "cell_type": "markdown",
   "metadata": {
    "slideshow": {
     "slide_type": "-"
    }
   },
   "source": [
    "Now it's your turn! Play around with the different parameters of the game, and observe how the gameplay changes as a result."
   ]
  },
  {
   "cell_type": "markdown",
   "metadata": {
    "slideshow": {
     "slide_type": "subslide"
    }
   },
   "source": [
    "## Task: the role of luck"
   ]
  },
  {
   "cell_type": "markdown",
   "metadata": {
    "slideshow": {
     "slide_type": "-"
    }
   },
   "source": [
    "Like we mentioned before, luck is very important in this game. In the match above, we specified the *random seed* to be equal to the integer value 3. This value does not mean anything in itself, but it determines the initial characters drawn by the players. What happens when you change the seed to another value? Try it out!"
   ]
  },
  {
   "cell_type": "markdown",
   "metadata": {
    "slideshow": {
     "slide_type": "skip"
    }
   },
   "source": [
    "**Hint:** the random seed should always be an integer value, so: 1, 2, 10, or 2837, but not: 1.23, 0.71, or a character/word."
   ]
  },
  {
   "cell_type": "code",
   "execution_count": null,
   "metadata": {
    "slideshow": {
     "slide_type": "subslide"
    }
   },
   "outputs": [],
   "source": [
    "random.seed(3) # seed value\n",
    "ada.battle_match(2, # num_players\n",
    "                 5, # num_chars\n",
    "                 2, # battle\n",
    "                 1, # stake\n",
    "                 available_characters)"
   ]
  },
  {
   "cell_type": "markdown",
   "metadata": {
    "slideshow": {
     "slide_type": "subslide"
    }
   },
   "source": [
    "## Task: game parameters"
   ]
  },
  {
   "cell_type": "markdown",
   "metadata": {
    "slideshow": {
     "slide_type": "-"
    }
   },
   "source": [
    "Another way to modify the game is to change the game parameters, which are input to the `battle_match` function. There are a few parameters you can work with:\n",
    "\n",
    "* `num_players`: The first parameter determines the number of players that participate in the match. It is set to 2 now, but why not try a game with more players?\n",
    "* `num_chars`: The second parameter determines the number of characters that each player draws at the start of a match.\n",
    "* `battle`: The third parameter determines the number of characters that each player selects for battle at each gameround. You can choose to let players battle with more characters, to make it more interesting!\n",
    "* `stake`: The fourth parameter determines the number of characters that each player puts at stake at each gameround. The more characters at stake, the riskier the match!"
   ]
  },
  {
   "cell_type": "markdown",
   "metadata": {
    "slideshow": {
     "slide_type": "skip"
    }
   },
   "source": [
    "**Hint:** make sure you use appropriate values for each of these parameters. They should all be integer values, and the number of players should be at least 2."
   ]
  },
  {
   "cell_type": "code",
   "execution_count": null,
   "metadata": {
    "slideshow": {
     "slide_type": "subslide"
    }
   },
   "outputs": [],
   "source": [
    "ada.battle_match(2, # num_players\n",
    "                 5, # num_chars\n",
    "                 2, # battle\n",
    "                 1, # stake\n",
    "                 available_characters)"
   ]
  },
  {
   "cell_type": "markdown",
   "metadata": {
    "slideshow": {
     "slide_type": "subslide"
    }
   },
   "source": [
    "## Task: available characters"
   ]
  },
  {
   "cell_type": "markdown",
   "metadata": {
    "slideshow": {
     "slide_type": "-"
    }
   },
   "source": [
    "We can also change the characters available in the game to suit our own game design and narrative. (Almost) everything goes here! Add some characters, give them different names, or change their strength and probability of being drawn. This way, you can really make the game your own!"
   ]
  },
  {
   "cell_type": "markdown",
   "metadata": {
    "slideshow": {
     "slide_type": "skip"
    }
   },
   "source": [
    "**Hint:** remember, the probabilities of all characters should always add up to 1!"
   ]
  },
  {
   "cell_type": "code",
   "execution_count": null,
   "metadata": {
    "slideshow": {
     "slide_type": "subslide"
    }
   },
   "outputs": [],
   "source": [
    "available_characters = pd.DataFrame(\n",
    "{\n",
    "    \"character\" : [\"Gnome\",\"Warrior\",\"Amazon\",\"Raven\",\"Elf\",\"Giant\",\"Dragon\",\"Unicorn\"],\n",
    "    \"probability\" : [0.3,0.22,0.18,0.13,0.07,0.05,0.04,0.01],\n",
    "    \"strength\" : [1,2,3,4,5,6,7,10]\n",
    "})\n",
    "\n",
    "print(available_characters)"
   ]
  },
  {
   "cell_type": "code",
   "execution_count": null,
   "metadata": {
    "slideshow": {
     "slide_type": "subslide"
    }
   },
   "outputs": [],
   "source": [
    "ada.battle_match(2, # num_players\n",
    "                 5, # num_chars\n",
    "                 2, # battle\n",
    "                 1, # stake\n",
    "                 available_characters)"
   ]
  }
 ],
 "metadata": {
  "celltoolbar": "Slideshow",
  "kernelspec": {
   "display_name": "Python 3",
   "language": "python",
   "name": "python3"
  },
  "language_info": {
   "codemirror_mode": {
    "name": "ipython",
    "version": 3
   },
   "file_extension": ".py",
   "mimetype": "text/x-python",
   "name": "python",
   "nbconvert_exporter": "python",
   "pygments_lexer": "ipython3",
   "version": "3.5.2"
  }
 },
 "nbformat": 4,
 "nbformat_minor": 2
}
